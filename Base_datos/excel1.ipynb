{
 "cells": [
  {
   "cell_type": "code",
   "execution_count": 1,
   "metadata": {},
   "outputs": [
    {
     "name": "stdout",
     "output_type": "stream",
     "text": [
      "         Date Country  Units   Revenue\n",
      "0  2022-01-08  Brazil    323   3024.25\n",
      "1  2022-01-02  Canada     27    257.97\n",
      "2  2022-01-04  Panama     93   4681.26\n",
      "3  2022-01-10  Brazil    102   1853.79\n",
      "4  2022-01-15     USA     29    290.40\n",
      "5  2022-01-13  Canada    372  24826.10\n",
      "6  2022-01-09     USA    343  15461.36\n",
      "7  2022-01-16  Brazil     90   1853.20\n",
      "8  2022-01-11  Panama     42   2220.40\n"
     ]
    }
   ],
   "source": [
    "import pandas as pd\n",
    "\n",
    "data = pd.read_csv('D:\\\\Downloads\\\\January2022.csv')\n",
    "\n",
    "print(data)"
   ]
  }
 ],
 "metadata": {
  "kernelspec": {
   "display_name": "Python 3",
   "language": "python",
   "name": "python3"
  },
  "language_info": {
   "codemirror_mode": {
    "name": "ipython",
    "version": 3
   },
   "file_extension": ".py",
   "mimetype": "text/x-python",
   "name": "python",
   "nbconvert_exporter": "python",
   "pygments_lexer": "ipython3",
   "version": "3.12.1"
  }
 },
 "nbformat": 4,
 "nbformat_minor": 2
}
