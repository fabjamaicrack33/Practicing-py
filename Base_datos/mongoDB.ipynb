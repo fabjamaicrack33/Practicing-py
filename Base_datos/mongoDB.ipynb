{
 "cells": [
  {
   "cell_type": "code",
   "execution_count": 8,
   "metadata": {},
   "outputs": [],
   "source": [
    "import pymongo\n",
    "\n",
    "# Conéctate a tu instancia de MongoDB\n",
    "client = pymongo.MongoClient(\"mongodb://localhost:27017/\")  # Reemplaza con tu URI de conexión si es necesario\n",
    "\n",
    "# Selecciona la base de datos que deseas mostrar\n",
    "database_name = \"Profesor\"\n",
    "db = client[database_name]\n",
    "\n",
    "# Lista todas las colecciones en la base de datos\n",
    "colecciones = db.list_collection_names()\n",
    "\n",
    "# Recorre las colecciones y muestra los documentos\n",
    "for coleccion in colecciones:\n",
    "    print(f\"=== Colección: {coleccion} ===\")\n",
    "    # Encuentra todos los documentos en la colección\n",
    "    documentos = db[coleccion].find()\n",
    "    for documento in documentos:\n",
    "        print(documento)\n",
    "\n",
    "# Cierra la conexión\n",
    "client.close()\n"
   ]
  }
 ],
 "metadata": {
  "language_info": {
   "name": "python"
  }
 },
 "nbformat": 4,
 "nbformat_minor": 2
}
