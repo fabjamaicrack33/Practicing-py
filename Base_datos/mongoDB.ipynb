{
 "cells": [
  {
   "cell_type": "code",
   "execution_count": 7,
   "metadata": {},
   "outputs": [
    {
     "name": "stdout",
     "output_type": "stream",
     "text": [
      "=== Colección: estudiante ===\n",
      "{'_id': ObjectId('655984d63d158f968609c137'), 'n_id': 1, 'nombre': 'Alejandra', 'apellido': 'Rojas', 'edad': '15', 'direccion': 'avenidad rojas', 'telefono': '3456228', 'acudiente': 'Jhon rojas', 'hobbies': 'montar bicicleta'}\n",
      "{'_id': ObjectId('655985b23d158f968609c138'), 'n_id': 2, 'nombre': 'felipe', 'apellido': 'beltran', 'edad': '16', 'direccion': 'autopista sur', 'telefono': '5678901', 'acudiente': 'Amanda baron', 'hobbies': 'leer libros'}\n",
      "{'_id': ObjectId('655986613d158f968609c139'), 'n_id': 3, 'nombre': 'patricia', 'apellido': 'turizo', 'edad': '14', 'direccion': 'avenida suba', 'telefono': '2318901', 'acudiente': 'fabio turizo', 'hobbies': 'escuchar musica'}\n",
      "{'_id': ObjectId('655986bd3d158f968609c13a'), 'n_id': 4, 'nombre': 'monica', 'apellido': 'cordoba', 'edad': '16', 'direccion': 'avenida esperanza', 'telefono': '3421227', 'acudiente': 'maria sanchez', 'hobbies': 'viajar'}\n",
      "{'_id': ObjectId('655987243d158f968609c13b'), 'n_id': 5, 'nombre': 'luis', 'apellido': 'gomez', 'edad': '15', 'direccion': 'calle 13', 'telefono': '4232118', 'acudiente': 'jose miguel gomez', 'hobbies': 'ver peliculas'}\n",
      "{'_id': ObjectId('655987d33d158f968609c13c'), 'n_id': 6, 'nombre': 'marlon', 'apellido': 'tarazona', 'edad': '15', 'direccion': 'calle 80', 'telefono': '2345781', 'acudiente': 'luisa gamboa', 'hobbies': 'jugar videojuegos'}\n",
      "{'_id': ObjectId('655988403d158f968609c13d'), 'n_id': 7, 'nombre': 'fabiana', 'apellido': 'diaz', 'edad': '16', 'direccion': 'avenida boyaca', 'telefono': '9001236', 'acudiente': 'francisco lopez', 'hobbies': 'dibujar'}\n",
      "{'_id': ObjectId('655988be3d158f968609c13e'), 'n_id': 8, 'nombre': 'edwin', 'apellido': 'silva', 'edad': '16', 'direccion': 'avenida 68', 'telefono': '5432118', 'acudiente': 'claudia gutierrez', 'hobbies': 'leer libros'}\n"
     ]
    }
   ],
   "source": [
    "import pymongo\n",
    "\n",
    "# Conéctate a tu instancia de MongoDB\n",
    "client = pymongo.MongoClient(\"mongodb://localhost:27017/\")  # Reemplaza con tu URI de conexión si es necesario\n",
    "\n",
    "# Selecciona la base de datos que deseas mostrar\n",
    "database_name = \"colegio\"\n",
    "db = client[database_name]\n",
    "\n",
    "# Lista todas las colecciones en la base de datos\n",
    "colecciones = db.list_collection_names()\n",
    "\n",
    "# Recorre las colecciones y muestra los documentos\n",
    "for coleccion in colecciones:\n",
    "    print(f\"=== Colección: {coleccion} ===\")\n",
    "    # Encuentra todos los documentos en la colección\n",
    "    documentos = db[coleccion].find()\n",
    "    for documento in documentos:\n",
    "        print(documento)\n",
    "\n",
    "# Cierra la conexión\n",
    "client.close()\n"
   ]
  }
 ],
 "metadata": {
  "kernelspec": {
   "display_name": "Python 3",
   "language": "python",
   "name": "python3"
  },
  "language_info": {
   "codemirror_mode": {
    "name": "ipython",
    "version": 3
   },
   "file_extension": ".py",
   "mimetype": "text/x-python",
   "name": "python",
   "nbconvert_exporter": "python",
   "pygments_lexer": "ipython3",
   "version": "3.12.1"
  }
 },
 "nbformat": 4,
 "nbformat_minor": 2
}
