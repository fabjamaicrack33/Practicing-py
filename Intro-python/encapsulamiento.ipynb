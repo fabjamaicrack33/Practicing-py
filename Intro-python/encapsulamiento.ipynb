{
 "cells": [
  {
   "cell_type": "markdown",
   "metadata": {},
   "source": [
    "El método __init__ es un método especial en Python que se utiliza para inicializar objetos de una clase. Es el constructor de la clase y se llama automáticamente cuando se crea una instancia de la clase. La palabra self es una convención en Python y se refiere a la instancia actual de la clase."
   ]
  },
  {
   "cell_type": "markdown",
   "metadata": {},
   "source": [
    "encapsulamiento 1 ejercicio identificacion de los datos "
   ]
  },
  {
   "cell_type": "code",
   "execution_count": 1,
   "metadata": {},
   "outputs": [
    {
     "name": "stdout",
     "output_type": "stream",
     "text": [
      "12340\n",
      "jean claude\n",
      "43\n"
     ]
    }
   ],
   "source": [
    "class Person:\n",
    "    def __init__(self, Id, name, age ):\n",
    "        self.Id = Id\n",
    "        self.name = name \n",
    "        self.age = age\n",
    "    \n",
    "    def greeting(self):\n",
    "        return 'hello' + self.name\n",
    "    \n",
    "person1 = Person(12340,'jean claude',43)\n",
    "\n",
    "print(person1.Id)\n",
    "print(person1.name)\n",
    "print(person1.age)"
   ]
  },
  {
   "cell_type": "markdown",
   "metadata": {},
   "source": [
    "encapsulamiento 2 ejercicio ocultar o privar el dato Id   'self.__Id = Id'"
   ]
  },
  {
   "cell_type": "code",
   "execution_count": 2,
   "metadata": {},
   "outputs": [
    {
     "ename": "AttributeError",
     "evalue": "'Person' object has no attribute 'Id'",
     "output_type": "error",
     "traceback": [
      "\u001b[1;31m---------------------------------------------------------------------------\u001b[0m",
      "\u001b[1;31mAttributeError\u001b[0m                            Traceback (most recent call last)",
      "Cell \u001b[1;32mIn[2], line 12\u001b[0m\n\u001b[0;32m      8\u001b[0m         \u001b[38;5;28;01mreturn\u001b[39;00m \u001b[38;5;124m'\u001b[39m\u001b[38;5;124mhello\u001b[39m\u001b[38;5;124m'\u001b[39m \u001b[38;5;241m+\u001b[39m \u001b[38;5;28mself\u001b[39m\u001b[38;5;241m.\u001b[39mname\n\u001b[0;32m     10\u001b[0m person1 \u001b[38;5;241m=\u001b[39m Person(\u001b[38;5;241m12340\u001b[39m,\u001b[38;5;124m'\u001b[39m\u001b[38;5;124mjean claude\u001b[39m\u001b[38;5;124m'\u001b[39m,\u001b[38;5;241m43\u001b[39m)\n\u001b[1;32m---> 12\u001b[0m \u001b[38;5;28mprint\u001b[39m(\u001b[43mperson1\u001b[49m\u001b[38;5;241;43m.\u001b[39;49m\u001b[43mId\u001b[49m)\n\u001b[0;32m     13\u001b[0m \u001b[38;5;28mprint\u001b[39m(person1\u001b[38;5;241m.\u001b[39mname)\n\u001b[0;32m     14\u001b[0m \u001b[38;5;28mprint\u001b[39m(person1\u001b[38;5;241m.\u001b[39mage)\n",
      "\u001b[1;31mAttributeError\u001b[0m: 'Person' object has no attribute 'Id'"
     ]
    }
   ],
   "source": [
    "class Person:\n",
    "    def __init__(self, Id, name, age ):\n",
    "        self.__Id = Id\n",
    "        self.name = name \n",
    "        self.age = age\n",
    "    \n",
    "    def greeting(self):\n",
    "        return 'hello' + self.name\n",
    "    \n",
    "person1 = Person(12340,'jean claude',43)\n",
    "\n",
    "print(person1.Id)\n",
    "print(person1.name)\n",
    "print(person1.age)"
   ]
  },
  {
   "cell_type": "markdown",
   "metadata": {},
   "source": [
    "encapsulamiento 3 hay dos formar para acceder el dato privado 1) modificar  sintaxis 2) metodo Get"
   ]
  },
  {
   "cell_type": "markdown",
   "metadata": {},
   "source": [
    "1) Con sintaxis  'print(person1._Person__Id)'"
   ]
  },
  {
   "cell_type": "code",
   "execution_count": 3,
   "metadata": {},
   "outputs": [
    {
     "name": "stdout",
     "output_type": "stream",
     "text": [
      "12340\n",
      "jean claude\n",
      "43\n"
     ]
    }
   ],
   "source": [
    "class Person:\n",
    "    def __init__(self, Id, name, age ):\n",
    "        self.__Id = Id\n",
    "        self.name = name \n",
    "        self.age = age\n",
    "    \n",
    "    def greeting(self):\n",
    "        return 'hello' + self.name\n",
    "    \n",
    "person1 = Person(12340,'jean claude',43)\n",
    "\n",
    "print(person1._Person__Id) \n",
    "print(person1.name)\n",
    "print(person1.age)"
   ]
  },
  {
   "cell_type": "markdown",
   "metadata": {},
   "source": [
    "2) Metodo Get"
   ]
  },
  {
   "cell_type": "code",
   "execution_count": 4,
   "metadata": {},
   "outputs": [
    {
     "name": "stdout",
     "output_type": "stream",
     "text": [
      "12340\n",
      "jean claude\n",
      "43\n"
     ]
    }
   ],
   "source": [
    "class Person:\n",
    "    def __init__(self, Id, name, age ):\n",
    "        self.__Id = Id\n",
    "        self.name = name \n",
    "        self.age = age\n",
    "    \n",
    "    def greeting(self):\n",
    "        return 'hello' + self.name\n",
    "    \n",
    "    def getId(self):\n",
    "        return self.__Id\n",
    "    \n",
    "person1 = Person(12340,'jean claude',43)\n",
    "\n",
    "print(person1.getId()) \n",
    "print(person1.name)\n",
    "print(person1.age)"
   ]
  },
  {
   "cell_type": "markdown",
   "metadata": {},
   "source": [
    "encapsulamiento 4 para asignar o modificar dato con el Metodo SET"
   ]
  },
  {
   "cell_type": "code",
   "execution_count": 10,
   "metadata": {},
   "outputs": [
    {
     "name": "stdout",
     "output_type": "stream",
     "text": [
      "98765\n",
      "jean claude\n",
      "43\n"
     ]
    }
   ],
   "source": [
    "class Person:\n",
    "    def __init__(self, Id, name, age ):\n",
    "        self.__Id = Id\n",
    "        self.name = name \n",
    "        self.age = age\n",
    "    \n",
    "    def greeting(self):              #crear metodos  después que la class Person: tenga atributos \n",
    "        return 'hello' + self.name\n",
    "    \n",
    "    def getId(self):\n",
    "        return self.__Id\n",
    "    \n",
    "    def setId(self, valor):\n",
    "        self.__Id = valor \n",
    "    \n",
    "person1 = Person(12340,'jean claude',43)\n",
    "\n",
    "person1.setId(98765)\n",
    "print(person1.getId()) \n",
    "print(person1.name)\n",
    "print(person1.age)"
   ]
  },
  {
   "cell_type": "markdown",
   "metadata": {},
   "source": [
    "class Person:: Define una clase llamada Person.\n",
    "\n",
    "def __init__(self, Id, name, age):: Define el método __init__. Este método se llama automáticamente cuando se crea un nuevo objeto de la clase. Los parámetros self, Id, name, y age son los argumentos del método. self es una referencia a la instancia de la clase que está siendo creada, mientras que Id, name, y age son los valores que se le pasan al crear un objeto.\n",
    "\n",
    "self.__Id = Id: Crea un atributo llamado __Id y lo inicializa con el valor del argumento Id. El doble guion bajo antes de Id indica que __Id es un atributo privado, lo que significa que debería ser accesible solo desde dentro de la propia clase. Es una convención en Python para indicar que el atributo es para uso interno y no debe ser modificado directamente desde fuera de la clase.\n",
    "\n",
    "self.name = name: Crea un atributo llamado name y lo inicializa con el valor del argumento name.\n",
    "\n",
    "self.age = age: Crea un atributo llamado age y lo inicializa con el valor del argumento age."
   ]
  }
 ],
 "metadata": {
  "kernelspec": {
   "display_name": "Python 3",
   "language": "python",
   "name": "python3"
  },
  "language_info": {
   "codemirror_mode": {
    "name": "ipython",
    "version": 3
   },
   "file_extension": ".py",
   "mimetype": "text/x-python",
   "name": "python",
   "nbconvert_exporter": "python",
   "pygments_lexer": "ipython3",
   "version": "3.12.1"
  }
 },
 "nbformat": 4,
 "nbformat_minor": 2
}
