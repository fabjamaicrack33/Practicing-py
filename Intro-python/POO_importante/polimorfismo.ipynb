{
 "cells": [
  {
   "cell_type": "markdown",
   "metadata": {},
   "source": [
    "El término polimorfismo tiene origen en las palabras poly (muchos) y morfo (formas), y aplicado a la programación hace referencia a que los objetos pueden tomar diferentes formas. ¿Pero qué significa esto?\n",
    "\n",
    " \n",
    "\n",
    "Pues bien, significa que objetos de diferentes clases pueden ser accedidos utilizando la misma interfaz, mostrando un comportamiento distinto (tomando diferentes formas) según cómo sean accedidos."
   ]
  },
  {
   "cell_type": "code",
   "execution_count": 38,
   "metadata": {},
   "outputs": [
    {
     "name": "stdout",
     "output_type": "stream",
     "text": [
      "the cat sound is\n",
      "miau\n",
      "the dog sound is\n",
      "guau\n",
      "the sheep sound is\n",
      "meee\n",
      "the cow sound is\n",
      "muuu\n"
     ]
    },
    {
     "data": {
      "text/plain": [
       "(None, None)"
      ]
     },
     "execution_count": 38,
     "metadata": {},
     "output_type": "execute_result"
    }
   ],
   "source": [
    "#polimorfismo sonidos de animales\n",
    "class Cat():\n",
    "    def sound(self):  #metodo\n",
    "        print('miau')\n",
    "\n",
    "class Dog():\n",
    "    def sound(self):\n",
    "        print('guau')\n",
    "\n",
    "class Sheep():\n",
    "    def sound(self):\n",
    "        print('meee')\n",
    "\n",
    "class Cow():\n",
    "    def sound(self):\n",
    "        print('muuu')\n",
    "\n",
    "def listentosound(animal): #creamos un metodo polimorfo\n",
    "    animal.sound()\n",
    "    \n",
    "#creamos un metodo polimorfo\n",
    "cat1 = Cat()\n",
    "dog1 = Dog()\n",
    "sheep1 = Sheep()\n",
    "cow1 = Cow()\n",
    "\n",
    "print('the cat sound is'),listentosound(cat1)\n",
    "print('the dog sound is'),listentosound(dog1)\n",
    "print('the sheep sound is'),listentosound(sheep1)\n",
    "print('the cow sound is'),listentosound(cow1)\n",
    "\n"
   ]
  }
 ],
 "metadata": {
  "kernelspec": {
   "display_name": "Python 3",
   "language": "python",
   "name": "python3"
  },
  "language_info": {
   "codemirror_mode": {
    "name": "ipython",
    "version": 3
   },
   "file_extension": ".py",
   "mimetype": "text/x-python",
   "name": "python",
   "nbconvert_exporter": "python",
   "pygments_lexer": "ipython3",
   "version": "3.12.1"
  }
 },
 "nbformat": 4,
 "nbformat_minor": 2
}
