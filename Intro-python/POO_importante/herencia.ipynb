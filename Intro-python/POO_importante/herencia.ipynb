{
 "cells": [
  {
   "cell_type": "code",
   "execution_count": 2,
   "metadata": {},
   "outputs": [
    {
     "name": "stdout",
     "output_type": "stream",
     "text": [
      "FIRST RECORD\n",
      "owner albert park\n",
      "CC: 3500cc\n",
      "indentify: 156A \n",
      " model: mustang \n",
      " brand ford \n",
      " color yellow \n",
      " moving True \n",
      " breaking True \n",
      " turning True\n",
      "\n",
      "\n",
      "SECOND RECORD\n",
      "owner giuseppe colombo\n",
      "CC: 3500cc\n",
      "indentify: 150H \n",
      " model: daytona sp3 \n",
      " brand ferrari \n",
      " color red \n",
      " moving True \n",
      " breaking True \n",
      " turning True\n"
     ]
    }
   ],
   "source": [
    "class vehicle():  #CLASS PADRE\n",
    "    def __init__(self, indentify,model,brand,color): #encapsulado los atributos\n",
    "        self.indentify = indentify #llamar los atributos con self.\n",
    "        self.model = model\n",
    "        self.brand = brand\n",
    "        self.color = color\n",
    "        self.move = False  #tambien iniciarlos con los metodos en la misma linea def con self. \n",
    "        self.breaK = False\n",
    "        self.turn = False\n",
    "\n",
    "#Ahora crear metodos de la clase 'Vehicle'\n",
    "        \n",
    "    def moving(self):\n",
    "        self.moving = True\n",
    "\n",
    "    def breaking(self):\n",
    "        self.breaking = True\n",
    "\n",
    "    def turning(self):\n",
    "        self.turning = True\n",
    "\n",
    "    def print(self):\n",
    "        print(f'indentify: {self.indentify} \\n model: {self.model} \\n brand {self.brand} \\n color {self.color} \\n moving {self.moving} \\n breaking {self.breaking} \\n turning {self.turning}')\n",
    "\n",
    "\n",
    "class car(vehicle): #Class HIJA\n",
    "    #pass            #pass evitar errores de sintaxis\n",
    "     def __init__(self, indentify,model,brand,color,cc,owner): #COLOCAR ATRIBUTO PROPIOS A LA CLASE CAR1 EN ESTE CASO 'CC' Y 'owner\n",
    "         super().__init__(indentify,model,brand,color)   #'SUPER()' para heredar atributos con los metodos clase PADRE\n",
    "         self.cc = cc\n",
    "         self.owner = owner\n",
    "\n",
    "print('FIRST RECORD')\n",
    "\n",
    "car1 = car('156A','mustang','ford','yellow','3500cc','albert park') \n",
    "car1.moving()\n",
    "car1.breaking()\n",
    "car1.turning()\n",
    "print('owner ' + str(car1.owner))\n",
    "print('CC: ' + str(car1.cc))\n",
    "car1.print()\n",
    "\n",
    "print('\\n')\n",
    "print('SECOND RECORD')\n",
    " \n",
    "car2 = car('150H','daytona sp3','ferrari','red','3500cc','giuseppe colombo') \n",
    "car2.moving()\n",
    "car2.breaking()\n",
    "car2.turning()\n",
    "print('owner ' + str(car2.owner))\n",
    "print('CC: ' + str(car2.cc))\n",
    "car2.print()\n"
   ]
  },
  {
   "cell_type": "code",
   "execution_count": 19,
   "metadata": {},
   "outputs": [
    {
     "name": "stdout",
     "output_type": "stream",
     "text": [
      "owner Franco jordan\n",
      "CC: 150cc\n",
      "indentify: 123B \n",
      " model: Bwis \n",
      " brand Yamaha \n",
      " color Black \n",
      " moving True \n",
      " breaking True \n",
      " turning True\n"
     ]
    }
   ],
   "source": [
    "class moto(vehicle): #Class HIJA\n",
    "    #pass            #pass evitar errores de sintaxis\n",
    "     def __init__(self, indentify,model,brand,color,cc,owner): #COLOCAR ATRIBUTO PROPIOS A LA CLASE CAR1 EN ESTE CASO 'CC' Y 'owner\n",
    "         super().__init__(indentify,model,brand,color)   #'SUPER()' para heredar atributos con los metodos clase PADRE\n",
    "         self.cc = cc\n",
    "         self.owner = owner\n",
    "\n",
    "moto1 = moto('123B','Bwis','Yamaha','Black','150cc','Franco jordan') \n",
    "moto1.moving()\n",
    "moto1.breaking()\n",
    "moto1.turning()\n",
    "print('owner ' + str(moto1.owner))\n",
    "print('CC: ' + str(moto1.cc))\n",
    "moto1.print()\n",
    "    "
   ]
  }
 ],
 "metadata": {
  "kernelspec": {
   "display_name": "Python 3",
   "language": "python",
   "name": "python3"
  },
  "language_info": {
   "codemirror_mode": {
    "name": "ipython",
    "version": 3
   },
   "file_extension": ".py",
   "mimetype": "text/x-python",
   "name": "python",
   "nbconvert_exporter": "python",
   "pygments_lexer": "ipython3",
   "version": "3.12.1"
  }
 },
 "nbformat": 4,
 "nbformat_minor": 2
}
