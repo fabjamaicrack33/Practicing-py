{
 "cells": [
  {
   "cell_type": "code",
   "execution_count": 24,
   "metadata": {},
   "outputs": [
    {
     "name": "stdout",
     "output_type": "stream",
     "text": [
      "EL Bus diesel es de color Azul , carroceria Marcopolo ,cilindraje 4000cc y la marca Scania\n",
      "Su funcionalidad : el bus frena ,el bus acelera ,el bus gira y el bus retrocede\n",
      "\n",
      "\n",
      "EL Bus hibrido es de color Amarillo , carroceria Buscar ,cilindraje 3000cc y la marca Volskwagen\n",
      "Su funcionalidad : el bus frena ,el bus acelera ,el bus gira y el bus retrocede\n",
      "\n",
      "\n",
      "EL Bus electrico es de color Verde , carroceria Buscar ,cilindraje en Kwatts y la marca BYD\n",
      "Su funcionalidad : el bus frena ,el bus acelera ,el bus gira y el bus retrocede\n",
      "\n",
      "\n"
     ]
    }
   ],
   "source": [
    "class Bus :  #la clase se denomina como plantilla que contiene metodos y atributos y sirve para crear los objetos \n",
    "    def __init__(self, color, carroceria, cilindrada,marca): #se inicializa los atributos \n",
    "        self.color = color     #self. acceder a los atributos y metodos a las instancias (objetos)\n",
    "        self.carroceria = carroceria\n",
    "        self.cilindrada = cilindrada\n",
    "        self.marca = marca\n",
    "\n",
    "    def frena(self):   #se asigna la funcionalidad: los metodos \n",
    "        return 'el bus frena'\n",
    "    \n",
    "    def acelera(self):\n",
    "        return 'el bus acelera'\n",
    "    \n",
    "    def gira(self):\n",
    "        return 'el bus gira'\n",
    "    \n",
    "    def retrocede(self):\n",
    "        return 'el bus retrocede'\n",
    "\n",
    "#crear los objetos   \n",
    "diesel = Bus('Azul','Marcopolo','4000cc','Scania')            \n",
    "hibrido = Bus('Amarillo','Buscar','3000cc','Volskwagen')\n",
    "electrico = Bus('Verde','Buscar','en Kwatts','BYD')\n",
    "\n",
    "\n",
    "print('EL Bus diesel es de color ' + str(diesel.color) , ', carroceria ' + str(diesel.carroceria), ',cilindraje ' + str(diesel.cilindrada),  'y la marca ' + str(diesel.marca))\n",
    "print('Su funcionalidad : ' + str(diesel.frena()), ',' + str(diesel.acelera()), ',' + str(diesel.gira()), 'y ' + str(diesel.retrocede()) )\n",
    "print('\\n')   \n",
    "print('EL Bus hibrido es de color ' + str(hibrido.color) , ', carroceria ' + str(hibrido.carroceria), ',cilindraje ' + str(hibrido.cilindrada),  'y la marca ' + str(hibrido.marca))\n",
    "print('Su funcionalidad : ' + str(hibrido.frena()), ',' + str(hibrido.acelera()), ',' + str(hibrido.gira()), 'y ' + str(hibrido.retrocede()) )\n",
    "print('\\n')   \n",
    "print('EL Bus electrico es de color ' + str(electrico.color) , ', carroceria ' + str(electrico.carroceria), ',cilindraje ' + str(electrico.cilindrada),  'y la marca ' + str(electrico.marca))\n",
    "print('Su funcionalidad : ' + str(electrico.frena()), ',' + str(electrico.acelera()), ',' + str(electrico.gira()), 'y ' + str(electrico.retrocede()) )\n",
    "print('\\n')   \n",
    "\n",
    "\n"
   ]
  },
  {
   "cell_type": "code",
   "execution_count": null,
   "metadata": {},
   "outputs": [],
   "source": []
  }
 ],
 "metadata": {
  "kernelspec": {
   "display_name": "Python 3",
   "language": "python",
   "name": "python3"
  },
  "language_info": {
   "codemirror_mode": {
    "name": "ipython",
    "version": 3
   },
   "file_extension": ".py",
   "mimetype": "text/x-python",
   "name": "python",
   "nbconvert_exporter": "python",
   "pygments_lexer": "ipython3",
   "version": "3.12.1"
  }
 },
 "nbformat": 4,
 "nbformat_minor": 2
}
